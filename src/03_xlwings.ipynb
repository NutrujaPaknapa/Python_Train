{
 "cells": [
  {
   "cell_type": "markdown",
   "metadata": {},
   "source": [
    "# Xlwings"
   ]
  },
  {
   "cell_type": "code",
   "execution_count": 1,
   "metadata": {},
   "outputs": [],
   "source": [
    "# install\n",
    "#!pip install xlwings\n",
    "#!pip install matplotlib"
   ]
  },
  {
   "cell_type": "code",
   "execution_count": 2,
   "metadata": {},
   "outputs": [],
   "source": [
    "import xlwings as xw\n",
    "import matplotlib.pyplot as plt"
   ]
  },
  {
   "cell_type": "code",
   "execution_count": 3,
   "metadata": {},
   "outputs": [
    {
     "data": {
      "text/html": [
       "<div>\n",
       "<style scoped>\n",
       "    .dataframe tbody tr th:only-of-type {\n",
       "        vertical-align: middle;\n",
       "    }\n",
       "\n",
       "    .dataframe tbody tr th {\n",
       "        vertical-align: top;\n",
       "    }\n",
       "\n",
       "    .dataframe thead th {\n",
       "        text-align: right;\n",
       "    }\n",
       "</style>\n",
       "<table border=\"1\" class=\"dataframe\">\n",
       "  <thead>\n",
       "    <tr style=\"text-align: right;\">\n",
       "      <th>Region</th>\n",
       "      <th>East</th>\n",
       "      <th>West</th>\n",
       "      <th>North</th>\n",
       "      <th>South</th>\n",
       "    </tr>\n",
       "    <tr>\n",
       "      <th>Quaters</th>\n",
       "      <th></th>\n",
       "      <th></th>\n",
       "      <th></th>\n",
       "      <th></th>\n",
       "    </tr>\n",
       "  </thead>\n",
       "  <tbody>\n",
       "    <tr>\n",
       "      <th>Q1</th>\n",
       "      <td>79716.018987</td>\n",
       "      <td>86974.137203</td>\n",
       "      <td>16868.248251</td>\n",
       "      <td>53763.896954</td>\n",
       "    </tr>\n",
       "    <tr>\n",
       "      <th>Q2</th>\n",
       "      <td>77371.753111</td>\n",
       "      <td>75985.346625</td>\n",
       "      <td>91215.453307</td>\n",
       "      <td>65640.212396</td>\n",
       "    </tr>\n",
       "    <tr>\n",
       "      <th>Q3</th>\n",
       "      <td>88824.345582</td>\n",
       "      <td>37456.897713</td>\n",
       "      <td>18936.503154</td>\n",
       "      <td>59130.469858</td>\n",
       "    </tr>\n",
       "    <tr>\n",
       "      <th>Q4</th>\n",
       "      <td>90066.214506</td>\n",
       "      <td>39320.261529</td>\n",
       "      <td>54899.188573</td>\n",
       "      <td>46453.103287</td>\n",
       "    </tr>\n",
       "  </tbody>\n",
       "</table>\n",
       "</div>"
      ],
      "text/plain": [
       "Region           East          West         North         South\n",
       "Quaters                                                        \n",
       "Q1       79716.018987  86974.137203  16868.248251  53763.896954\n",
       "Q2       77371.753111  75985.346625  91215.453307  65640.212396\n",
       "Q3       88824.345582  37456.897713  18936.503154  59130.469858\n",
       "Q4       90066.214506  39320.261529  54899.188573  46453.103287"
      ]
     },
     "execution_count": 3,
     "metadata": {},
     "output_type": "execute_result"
    }
   ],
   "source": [
    "import pandas as pd\n",
    "import numpy as np\n",
    "data = pd.DataFrame(data=np.random.rand(4,4)*100000,\n",
    "index=[\"Q1\",\"Q2\",\"Q3\",\"Q4\"],\n",
    "columns=[\"East\",\"West\",\"North\",\"South\"])\n",
    "data.index.name = \"Quaters\"\n",
    "data.columns.name = \"Region\"\n",
    "data"
   ]
  },
  {
   "cell_type": "code",
   "execution_count": 4,
   "metadata": {},
   "outputs": [
    {
     "data": {
      "image/png": "[encoded data removed]",
      "text/plain": [
       "<Figure size 640x480 with 1 Axes>"
      ]
     },
     "metadata": {},
     "output_type": "display_data"
    }
   ],
   "source": [
    "import matplotlib.pyplot as plt\n",
    "fig = data.plot.bar().get_figure()"
   ]
  },
  {
   "cell_type": "code",
   "execution_count": 5,
   "metadata": {},
   "outputs": [],
   "source": [
    "import xlwings as xw\n",
    "\n",
    "template = xw.Book()\n",
    "\n",
    "app = xw.apps.active\n",
    "\n",
    "sheet = template.sheets[\"Sheet1\"]\n",
    "sheet[\"A1\"].value = \"Import data with Xlwings\"\n",
    "sheet[\"A1\"].api.Font.Bold = True\n",
    "sheet[\"A1\"].color = (78,59,201)\n",
    "sheet[\"A1\"].font.color = (255, 0, 0) \n",
    "sheet[\"E1\"].value = data\n",
    "#add picture\n",
    "plot= sheet.pictures.add(fig,top=sheet[\"B9\"].top,left=sheet[\"B9\"].left)\n",
    "plot.width = plot.width*0.8\n",
    "plot.height = plot.height*0.8\n",
    "\n",
    "template.sheets.add(\"Sheet2\")\n",
    "sheet_2 = template.sheets[\"Sheet2\"]\n",
    "sheet_2[\"A1\"].value = \"Import data with Xlwings sheet2\"\n",
    "\n",
    "template.save(r\"export\\sample_xlwings.xlsx\")\n",
    "template.close()\n",
    "app.kill()"
   ]
  },
  {
   "cell_type": "markdown",
   "metadata": {},
   "source": [
    "# Run with invisible"
   ]
  },
  {
   "cell_type": "code",
   "execution_count": 6,
   "metadata": {},
   "outputs": [],
   "source": [
    "import xlwings as xw \n",
    "\n",
    "app = xw.App(visible=False)\n",
    "book = xw.Book()\n",
    "sheet = book.sheets('Sheet1')\n",
    "sheet[\"A1\"].value = \"Import data with Xlwings\"\n",
    "book.save(r\"export\\sample_with_invisible.xlsx\")\n",
    "book.close()\n",
    "app.quit()"
   ]
  },
  {
   "cell_type": "markdown",
   "metadata": {},
   "source": [
    "# Run with Template"
   ]
  },
  {
   "cell_type": "code",
   "execution_count": 7,
   "metadata": {},
   "outputs": [],
   "source": [
    "import xlwings as xw \n",
    "\n",
    "app = xw.App(visible=False)\n",
    "book = xw.Book(r\"D:\\Python_Project\\src\\data\\xl_wing_template.xlsx\")\n",
    "sheet = book.sheets('Sheet1')\n",
    "sheet[\"A1\"].value = data\n",
    "book.save(r\"export\\sample_with_template.xlsx\")\n",
    "book.close()\n",
    "app.quit()"
   ]
  }
 ],
 "metadata": {
  "kernelspec": {
   "display_name": "Python 3.12.0",
   "language": "python",
   "name": "python3"
  },
  "language_info": {
   "codemirror_mode": {
    "name": "ipython",
    "version": 3
   },
   "file_extension": ".py",
   "mimetype": "text/x-python",
   "name": "python",
   "nbconvert_exporter": "python",
   "pygments_lexer": "ipython3",
   "version": "3.12.0"
  },
  "orig_nbformat": 4,
  "vscode": {
   "interpreter": {
    "hash": "5b9a54df9a62cc9af8d7f94427f6751481cc0a3f034fc864b68faeaad92b826e"
   }
  }
 },
 "nbformat": 4,
 "nbformat_minor": 2
}
