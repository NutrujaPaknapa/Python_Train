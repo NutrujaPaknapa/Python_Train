{
 "cells": [
  {
   "cell_type": "markdown",
   "metadata": {},
   "source": [
    "# Selenium"
   ]
  },
  {
   "cell_type": "code",
   "execution_count": 3,
   "metadata": {},
   "outputs": [],
   "source": [
    "# !pip install selenium"
   ]
  },
  {
   "cell_type": "code",
   "execution_count": 8,
   "metadata": {},
   "outputs": [],
   "source": [
    "from selenium import webdriver\n",
    "from selenium.webdriver.common.by import By\n",
    "\n",
    "driver = webdriver.Chrome()\n",
    "driver.get(\"http://www.python.org\")\n",
    "\n",
    "search_bar = driver.find_element(By.ID,\"id-search-field\") #id จาก inspeck หน้าเว็บ\n",
    "search_bar.send_keys(\"getting started with python\") #การพิมพ์ข้อความใน inputbox\n",
    "\n",
    "submit = driver.find_element(By.NAME,\"submit\") #เมื่อต้องการกดปุ่ม GO\n",
    "submit.click() #กดคลิกให้ค้นหา\n"
   ]
  },
  {
   "cell_type": "code",
   "execution_count": 10,
   "metadata": {},
   "outputs": [
    {
     "name": "stdout",
     "output_type": "stream",
     "text": [
      "Welcome to Python.org\n",
      "https://www.python.org/search/?q=getting+started+with+python&submit=\n"
     ]
    }
   ],
   "source": [
    "from selenium import webdriver\n",
    "from selenium.webdriver.common.by import By\n",
    "from selenium.webdriver.common.keys import Keys\n",
    "\n",
    "driver = webdriver.Chrome()\n",
    "driver.get(\"http://www.python.org\")\n",
    "\n",
    "search_bar = driver.find_element(By.XPATH,'//*[@id=\"id-search-field\"]') #XPATH จาก copy inspeck หน้าเว็บ\n",
    "search_bar.send_keys(\"getting started with python\") #การพิมพ์ข้อความใน inputbox\n",
    "search_bar.send_keys(Keys.RETURN) #ค้นหาอัตโนมัติโดยไม่ต้องการคลิก\n",
    "\n",
    "print(driver.title)\n",
    "print(driver.current_url)\n",
    "\n",
    "driver.close() #เมื่อทำงานตามเงื่อนไขเสร็จให้ปิด Tab ออกไป\n",
    "driver.quit() #close browser"
   ]
  },
  {
   "cell_type": "markdown",
   "metadata": {},
   "source": [
    "#### By Tag"
   ]
  },
  {
   "cell_type": "code",
   "execution_count": 1,
   "metadata": {},
   "outputs": [
    {
     "name": "stdout",
     "output_type": "stream",
     "text": [
      "Welcome\n",
      "--------------\n",
      "Site content goes here.\n"
     ]
    },
    {
     "ename": "NoSuchElementException",
     "evalue": "Message: no such element: Unable to locate element: {\"method\":\"xpath\",\"selector\":\"/html/body/a[2]\"}\n  (Session info: chrome=117.0.5938.150); For documentation on this error, please visit: https://www.selenium.dev/documentation/webdriver/troubleshooting/errors#no-such-element-exception\nStacktrace:\n\tGetHandleVerifier [0x00007FF68B897D12+55474]\n\t(No symbol) [0x00007FF68B8077C2]\n\t(No symbol) [0x00007FF68B6BE0EB]\n\t(No symbol) [0x00007FF68B6FEBAC]\n\t(No symbol) [0x00007FF68B6FED2C]\n\t(No symbol) [0x00007FF68B739F77]\n\t(No symbol) [0x00007FF68B71F19F]\n\t(No symbol) [0x00007FF68B737EF2]\n\t(No symbol) [0x00007FF68B71EF33]\n\t(No symbol) [0x00007FF68B6F3D41]\n\t(No symbol) [0x00007FF68B6F4F84]\n\tGetHandleVerifier [0x00007FF68BBFB762+3609346]\n\tGetHandleVerifier [0x00007FF68BC51A80+3962400]\n\tGetHandleVerifier [0x00007FF68BC49F0F+3930799]\n\tGetHandleVerifier [0x00007FF68B933CA6+694342]\n\t(No symbol) [0x00007FF68B812218]\n\t(No symbol) [0x00007FF68B80E484]\n\t(No symbol) [0x00007FF68B80E5B2]\n\t(No symbol) [0x00007FF68B7FEE13]\n\tBaseThreadInitThunk [0x00007FFE048A7614+20]\n\tRtlUserThreadStart [0x00007FFE063226A1+33]\n",
     "output_type": "error",
     "traceback": [
      "\u001b[1;31m---------------------------------------------------------------------------\u001b[0m",
      "\u001b[1;31mNoSuchElementException\u001b[0m                    Traceback (most recent call last)",
      "Cell \u001b[1;32mIn[1], line 32\u001b[0m\n\u001b[0;32m     29\u001b[0m continue_page\u001b[38;5;241m.\u001b[39mclick()\n\u001b[0;32m     31\u001b[0m \u001b[38;5;66;03m#กด cancel อัตโนมัติ\u001b[39;00m\n\u001b[1;32m---> 32\u001b[0m cancel_page \u001b[38;5;241m=\u001b[39m driver\u001b[38;5;241m.\u001b[39mfind_element(By\u001b[38;5;241m.\u001b[39mXPATH,\u001b[38;5;124m'\u001b[39m\u001b[38;5;124m/html/body/a[2]\u001b[39m\u001b[38;5;124m'\u001b[39m)\n\u001b[0;32m     33\u001b[0m cancel_page\u001b[38;5;241m.\u001b[39mclick()\n",
      "File \u001b[1;32md:\\env_python3.11\\Lib\\site-packages\\selenium\\webdriver\\remote\\webdriver.py:738\u001b[0m, in \u001b[0;36mWebDriver.find_element\u001b[1;34m(self, by, value)\u001b[0m\n\u001b[0;32m    735\u001b[0m     by \u001b[39m=\u001b[39m By\u001b[39m.\u001b[39mCSS_SELECTOR\n\u001b[0;32m    736\u001b[0m     value \u001b[39m=\u001b[39m \u001b[39mf\u001b[39m\u001b[39m'\u001b[39m\u001b[39m[name=\u001b[39m\u001b[39m\"\u001b[39m\u001b[39m{\u001b[39;00mvalue\u001b[39m}\u001b[39;00m\u001b[39m\"\u001b[39m\u001b[39m]\u001b[39m\u001b[39m'\u001b[39m\n\u001b[1;32m--> 738\u001b[0m \u001b[39mreturn\u001b[39;00m \u001b[39mself\u001b[39m\u001b[39m.\u001b[39mexecute(Command\u001b[39m.\u001b[39mFIND_ELEMENT, {\u001b[39m\"\u001b[39m\u001b[39musing\u001b[39m\u001b[39m\"\u001b[39m: by, \u001b[39m\"\u001b[39m\u001b[39mvalue\u001b[39m\u001b[39m\"\u001b[39m: value})[\u001b[39m\"\u001b[39m\u001b[39mvalue\u001b[39m\u001b[39m\"\u001b[39m]\n",
      "File \u001b[1;32md:\\env_python3.11\\Lib\\site-packages\\selenium\\webdriver\\remote\\webdriver.py:344\u001b[0m, in \u001b[0;36mWebDriver.execute\u001b[1;34m(self, driver_command, params)\u001b[0m\n\u001b[0;32m    342\u001b[0m response \u001b[39m=\u001b[39m \u001b[39mself\u001b[39m\u001b[39m.\u001b[39mcommand_executor\u001b[39m.\u001b[39mexecute(driver_command, params)\n\u001b[0;32m    343\u001b[0m \u001b[39mif\u001b[39;00m response:\n\u001b[1;32m--> 344\u001b[0m     \u001b[39mself\u001b[39m\u001b[39m.\u001b[39merror_handler\u001b[39m.\u001b[39mcheck_response(response)\n\u001b[0;32m    345\u001b[0m     response[\u001b[39m\"\u001b[39m\u001b[39mvalue\u001b[39m\u001b[39m\"\u001b[39m] \u001b[39m=\u001b[39m \u001b[39mself\u001b[39m\u001b[39m.\u001b[39m_unwrap_value(response\u001b[39m.\u001b[39mget(\u001b[39m\"\u001b[39m\u001b[39mvalue\u001b[39m\u001b[39m\"\u001b[39m, \u001b[39mNone\u001b[39;00m))\n\u001b[0;32m    346\u001b[0m     \u001b[39mreturn\u001b[39;00m response\n",
      "File \u001b[1;32md:\\env_python3.11\\Lib\\site-packages\\selenium\\webdriver\\remote\\errorhandler.py:229\u001b[0m, in \u001b[0;36mErrorHandler.check_response\u001b[1;34m(self, response)\u001b[0m\n\u001b[0;32m    227\u001b[0m         alert_text \u001b[39m=\u001b[39m value[\u001b[39m\"\u001b[39m\u001b[39malert\u001b[39m\u001b[39m\"\u001b[39m]\u001b[39m.\u001b[39mget(\u001b[39m\"\u001b[39m\u001b[39mtext\u001b[39m\u001b[39m\"\u001b[39m)\n\u001b[0;32m    228\u001b[0m     \u001b[39mraise\u001b[39;00m exception_class(message, screen, stacktrace, alert_text)  \u001b[39m# type: ignore[call-arg]  # mypy is not smart enough here\u001b[39;00m\n\u001b[1;32m--> 229\u001b[0m \u001b[39mraise\u001b[39;00m exception_class(message, screen, stacktrace)\n",
      "\u001b[1;31mNoSuchElementException\u001b[0m: Message: no such element: Unable to locate element: {\"method\":\"xpath\",\"selector\":\"/html/body/a[2]\"}\n  (Session info: chrome=117.0.5938.150); For documentation on this error, please visit: https://www.selenium.dev/documentation/webdriver/troubleshooting/errors#no-such-element-exception\nStacktrace:\n\tGetHandleVerifier [0x00007FF68B897D12+55474]\n\t(No symbol) [0x00007FF68B8077C2]\n\t(No symbol) [0x00007FF68B6BE0EB]\n\t(No symbol) [0x00007FF68B6FEBAC]\n\t(No symbol) [0x00007FF68B6FED2C]\n\t(No symbol) [0x00007FF68B739F77]\n\t(No symbol) [0x00007FF68B71F19F]\n\t(No symbol) [0x00007FF68B737EF2]\n\t(No symbol) [0x00007FF68B71EF33]\n\t(No symbol) [0x00007FF68B6F3D41]\n\t(No symbol) [0x00007FF68B6F4F84]\n\tGetHandleVerifier [0x00007FF68BBFB762+3609346]\n\tGetHandleVerifier [0x00007FF68BC51A80+3962400]\n\tGetHandleVerifier [0x00007FF68BC49F0F+3930799]\n\tGetHandleVerifier [0x00007FF68B933CA6+694342]\n\t(No symbol) [0x00007FF68B812218]\n\t(No symbol) [0x00007FF68B80E484]\n\t(No symbol) [0x00007FF68B80E5B2]\n\t(No symbol) [0x00007FF68B7FEE13]\n\tBaseThreadInitThunk [0x00007FFE048A7614+20]\n\tRtlUserThreadStart [0x00007FFE063226A1+33]\n"
     ]
    }
   ],
   "source": [
    "from selenium import webdriver\n",
    "from selenium.webdriver.common.by import By\n",
    "from selenium.webdriver.common.keys import Keys\n",
    "\n",
    "driver = webdriver.Chrome()\n",
    "driver.get(\"D:\\Python_Project\\src\\html\\main.html\")\n",
    "\n",
    "element = driver.find_element(By.TAG_NAME,\"h1\")\n",
    "print(element.text)\n",
    "\n",
    "print(\"--------------\")\n",
    "element = driver.find_element(By.TAG_NAME,\"p\")\n",
    "print(element.text)\n",
    "\n",
    "# print(\"--------------\")\n",
    "# element = driver.find_elements(By.TAG_NAME,\"p\") #เก็บในรูปแบบ list ให้วน for\n",
    "# for element in element:\n",
    "#     print(element.text)\n",
    "\n",
    "# print(\"--------------\")\n",
    "# element = driver.find_elements(By.TAG_NAME,\"p\")\n",
    "# for j in element:\n",
    "#     # print(element.text)\n",
    "#     if j.text == \"continue\":\n",
    "#         j.click\n",
    "\n",
    "#กด continue อัตโนมัติ\n",
    "continue_page = driver.find_element(By.XPATH,'/html/body/a[1]')\n",
    "continue_page.click()\n",
    "\n",
    "#กด cancel อัตโนมัติ\n",
    "cancel_page = driver.find_element(By.XPATH,'/html/body/a[2]')\n",
    "cancel_page.click()\n"
   ]
  },
  {
   "cell_type": "markdown",
   "metadata": {},
   "source": [
    "#### Log-in"
   ]
  },
  {
   "cell_type": "code",
   "execution_count": 2,
   "metadata": {},
   "outputs": [],
   "source": [
    "from selenium import webdriver\n",
    "from selenium.webdriver.common.by import By\n",
    "from selenium.webdriver.common.keys import Keys\n",
    "\n",
    "driver = webdriver.Chrome()\n",
    "driver.get(\"D:\\Python_Project\\src\\html\\login.html\")\n",
    "\n",
    "username = driver.find_element(By.NAME,\"username\") \n",
    "username.send_keys(\"nutruja\")\n",
    "\n",
    "password = driver.find_element(By.NAME,\"password\")\n",
    "password.send_keys(\"password\")\n",
    "\n",
    "submit = driver.find_element(By.NAME,\"submit\") \n",
    "submit.click()"
   ]
  },
  {
   "cell_type": "markdown",
   "metadata": {},
   "source": [
    "#### Switch new window"
   ]
  },
  {
   "cell_type": "code",
   "execution_count": 4,
   "metadata": {},
   "outputs": [],
   "source": [
    "from selenium import webdriver\n",
    "from selenium.webdriver.common.by import By\n",
    "import time\n",
    "\n",
    "driver = webdriver.Chrome()\n",
    "driver.get(\"D:\\Python_Project\\src\\html\\main.html\")\n",
    "\n",
    "continue_link = driver.find_element(By.PARTIAL_LINK_TEXT,\"Continue with new tab\") \n",
    "continue_link.click()\n",
    "\n",
    "driver.switch_to.window(driver.window_handles[0]) #open new tab"
   ]
  },
  {
   "cell_type": "markdown",
   "metadata": {},
   "source": [
    "#### Alert"
   ]
  },
  {
   "cell_type": "code",
   "execution_count": 8,
   "metadata": {},
   "outputs": [],
   "source": [
    "from selenium import webdriver\n",
    "from selenium.webdriver.common.by import By\n",
    "import time\n",
    "\n",
    "driver = webdriver.Chrome()\n",
    "driver.get(\"D:\\Python_Project\\src\\html\\main.html\")\n",
    "\n",
    "\n",
    "alert_but = driver.find_element(By.XPATH,'/html/body/button[1]')\n",
    "alert_but.click()\n",
    "\n",
    "alert_popup = driver.switch_to.alert\n",
    "time.sleep(3) #(3วิ)แล้วค่อยกด accept\n",
    "alert_popup.accept()\n"
   ]
  },
  {
   "cell_type": "markdown",
   "metadata": {},
   "source": [
    "### Remark"
   ]
  },
  {
   "cell_type": "markdown",
   "metadata": {},
   "source": [
    "alert = driver.switch_to.alert\n",
    "- alert_obj.accept() – used to accept the Alert\n",
    "- alert_obj.dismiss() – used to cancel the Alert\n",
    "- alert.send_keys() – used to enter a value in the Alert text box.\n",
    "- alert.text() – used to retrieve the message included in the Alert pop-up."
   ]
  },
  {
   "cell_type": "markdown",
   "metadata": {},
   "source": [
    "#### Dismiss"
   ]
  },
  {
   "cell_type": "code",
   "execution_count": 10,
   "metadata": {},
   "outputs": [],
   "source": [
    "from selenium import webdriver\n",
    "from selenium.webdriver.common.by import By\n",
    "import time\n",
    "\n",
    "driver = webdriver.Chrome()\n",
    "driver.get(\"D:\\Python_Project\\src\\html\\main.html\")\n",
    "\n",
    "\n",
    "alert_but = driver.find_element(By.XPATH,'/html/body/button[2]')\n",
    "alert_but.click()\n",
    "\n",
    "alert_popup = driver.switch_to.alert\n",
    "time.sleep(3) #(3วิ)แล้วค่อยกด accept\n",
    "alert_popup.dismiss()"
   ]
  },
  {
   "cell_type": "markdown",
   "metadata": {},
   "source": [
    "#### Date picker"
   ]
  },
  {
   "cell_type": "code",
   "execution_count": 19,
   "metadata": {},
   "outputs": [],
   "source": [
    "from selenium import webdriver\n",
    "from selenium.webdriver.common.by import By\n",
    "import time\n",
    "\n",
    "driver = webdriver.Chrome()\n",
    "driver.get(\"D:\\Python_Project\\src\\html\\main.html\")\n",
    "\n",
    "\n",
    "datefield = driver.find_element(By.NAME,'birthday')\n",
    "datefield.send_keys(\"11Sep2021\")"
   ]
  },
  {
   "cell_type": "markdown",
   "metadata": {},
   "source": [
    "#### Example เจาะเว็บ NMB"
   ]
  },
  {
   "cell_type": "code",
   "execution_count": 30,
   "metadata": {},
   "outputs": [
    {
     "name": "stderr",
     "output_type": "stream",
     "text": [
      "There was an error managing chrome (error sending request for url (https://googlechromelabs.github.io/chrome-for-testing/known-good-versions-with-downloads.json): error trying to connect: dns error: No such host is known. (os error 11001)); using driver found in the cache\n"
     ]
    }
   ],
   "source": [
    "from selenium import webdriver\n",
    "from selenium.webdriver.common.by import By\n",
    "from selenium.webdriver.common.keys import Keys\n",
    "import time\n",
    "\n",
    "driver = webdriver.Chrome()\n",
    "driver.get(\"http://web02.lb.minebea.local/AirBusBooking/LoginAD.aspx\")\n",
    "\n",
    "ddlDomain = driver.find_element(By.NAME,'ddlDomain')\n",
    "ddlDomain.send_keys(\"bp\")\n",
    "\n",
    "txtUser = driver.find_element(By.NAME,\"txtUser\") \n",
    "txtUser.send_keys(\"bpt9618\")\n",
    "\n",
    "txtPwd = driver.find_element(By.NAME,'txtPwd') \n",
    "txtPwd.send_keys(\"FERN//9618\")\n",
    "\n",
    "submit = driver.find_element(By.XPATH,'//*[@id=\"btnLogin\"]')\n",
    "submit.click()\n",
    "\n",
    "current_url = driver.current_url\n",
    "if current_url == ('http://web02.lb.minebea.local/AirBusBooking/AirBusRule.aspx'):\n",
    "   time.sleep(2)\n",
    "   submit = driver.find_element(By.ID,\"btnAccept\") \n",
    "   submit.click()\n",
    "\n",
    "\n",
    "click_rdo_11 = driver.find_element(By.XPATH,'//*[@id=\"Table1\"]/tbody/tr/td[3]/table/tbody/tr[3]/td[2]/div/div/label') \n",
    "click_rdo_11.click()\n",
    "\n",
    "btnNewBooking = driver.find_element(By.ID,\"btnNewBooking\") \n",
    "time.sleep(5) #(3วิ)แล้วค่อยกด accept\n",
    "btnNewBooking.click()\n",
    "\n"
   ]
  }
 ],
 "metadata": {
  "kernelspec": {
   "display_name": "Python 3.11.5",
   "language": "python",
   "name": "python3"
  },
  "language_info": {
   "codemirror_mode": {
    "name": "ipython",
    "version": 3
   },
   "file_extension": ".py",
   "mimetype": "text/x-python",
   "name": "python",
   "nbconvert_exporter": "python",
   "pygments_lexer": "ipython3",
   "version": "3.11.5"
  },
  "orig_nbformat": 4,
  "vscode": {
   "interpreter": {
    "hash": "b5a27bd524ba473a7a78977eca847747dbd096ea985e5a52ac3e13ff952e0320"
   }
  }
 },
 "nbformat": 4,
 "nbformat_minor": 2
}
