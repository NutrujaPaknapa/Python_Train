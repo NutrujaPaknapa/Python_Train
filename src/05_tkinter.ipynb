{
 "cells": [
  {
   "cell_type": "code",
   "execution_count": null,
   "metadata": {},
   "outputs": [],
   "source": []
  },
  {
   "cell_type": "markdown",
   "metadata": {},
   "source": [
    "# Tkinter"
   ]
  },
  {
   "cell_type": "code",
   "execution_count": 5,
   "metadata": {},
   "outputs": [],
   "source": [
    "#!pip install tk"
   ]
  },
  {
   "cell_type": "code",
   "execution_count": 1,
   "metadata": {},
   "outputs": [],
   "source": [
    "import tkinter as tk\n",
    "from tkinter import ttk\n",
    "\n",
    "def fahrenheit_to_celsius(f):\n",
    "    \"\"\"convert fahrenhite to celsius\"\"\"\n",
    "    result = round((f - 32) * 5/9,2)\n",
    "    return result\n",
    "\n",
    "def convert_button_clicked():\n",
    "    \"\"\"get temperature from entry then convert it\"\"\"\n",
    "    f = float(temperature.get())\n",
    "    c = fahrenheit_to_celsius(f)\n",
    "    result_label.config(text=c)\n",
    "    \n",
    "window = tk.Tk()\n",
    "window.title(\"Temperature Convert\")\n",
    "window.geometry(\"300x70\") #หน่วยเป็น px\n",
    "window.resizable(False, False)\n",
    "frame = ttk.Frame(window)\n",
    "\n",
    "#set padding\n",
    "options = {'padx':5,'pady':5}\n",
    "\n",
    "#label ใส่ข้อความ lable ที่ frame\n",
    "temperature_label = ttk.Label(frame, text=\"Fahrenheit\")\n",
    "temperature_label.grid(column=0,row=0,**options)\n",
    "\n",
    "#inputbox\n",
    "temperature = tk.StringVar()\n",
    "temperature_input = ttk.Entry(frame, textvariable=temperature)\n",
    "temperature_input.grid(column=1,row=0,**options)\n",
    "temperature_input.grid(column=1,row=0,**options)\n",
    "\n",
    "#button\n",
    "convert_button = ttk.Button(frame,text='Convert')\n",
    "convert_button.grid(column=2,row=0,**options)\n",
    "convert_button.configure(command=convert_button_clicked)\n",
    "\n",
    "#result label\n",
    "result_label = ttk.Label(frame,text='input temperature')\n",
    "result_label.grid(columnspan=2,row=1,**options)\n",
    "\n",
    "# add grid\n",
    "frame.grid(pady=12,padx=7)\n",
    "\n",
    "#loop GUI\n",
    "window.mainloop()"
   ]
  },
  {
   "cell_type": "markdown",
   "metadata": {},
   "source": [
    "# Build"
   ]
  },
  {
   "cell_type": "code",
   "execution_count": 2,
   "metadata": {},
   "outputs": [
    {
     "name": "stdout",
     "output_type": "stream",
     "text": [
      "Collecting pyinstaller\n",
      "  Downloading https://files.pythonhosted.org/packages/1a/74/c65be869ae47649b98a928b3122c27d72fe372138aab4dc6cdd42e217d8a/pyinstaller-5.13.2-py3-none-win_amd64.whl (1.3MB)\n",
      "Collecting pyinstaller-hooks-contrib>=2021.4 (from pyinstaller)\n",
      "  Downloading https://files.pythonhosted.org/packages/2b/5f/30224db46281199f405b9c3b929f43a7d17591180b52f13c75c625dfc386/pyinstaller_hooks_contrib-2023.10-py2.py3-none-any.whl (288kB)\n",
      "Collecting pywin32-ctypes>=0.2.1; sys_platform == \"win32\" (from pyinstaller)\n",
      "  Downloading https://files.pythonhosted.org/packages/a4/bc/78b2c00cc64c31dbb3be42a0e8600bcebc123ad338c3b714754d668c7c2d/pywin32_ctypes-0.2.2-py3-none-any.whl\n",
      "Collecting importlib-metadata>=1.4; python_version < \"3.8\" (from pyinstaller)\n",
      "  Downloading https://files.pythonhosted.org/packages/ff/94/64287b38c7de4c90683630338cf28f129decbba0a44f0c6db35a873c73c4/importlib_metadata-6.7.0-py3-none-any.whl\n",
      "Collecting pefile>=2022.5.30; sys_platform == \"win32\" (from pyinstaller)\n",
      "  Downloading https://files.pythonhosted.org/packages/55/26/d0ad8b448476d0a1e8d3ea5622dc77b916db84c6aa3cb1e1c0965af948fc/pefile-2023.2.7-py3-none-any.whl (71kB)\n",
      "Collecting altgraph (from pyinstaller)\n",
      "  Downloading https://files.pythonhosted.org/packages/4d/3f/3bc3f1d83f6e4a7fcb834d3720544ca597590425be5ba9db032b2bf322a2/altgraph-0.17.4-py2.py3-none-any.whl\n",
      "Collecting setuptools>=42.0.0 (from pyinstaller)\n",
      "  Downloading https://files.pythonhosted.org/packages/c7/42/be1c7bbdd83e1bfb160c94b9cafd8e25efc7400346cf7ccdbdb452c467fa/setuptools-68.0.0-py3-none-any.whl (804kB)\n",
      "Collecting zipp>=0.5 (from importlib-metadata>=1.4; python_version < \"3.8\"->pyinstaller)\n",
      "  Downloading https://files.pythonhosted.org/packages/5b/fa/c9e82bbe1af6266adf08afb563905eb87cab83fde00a0a08963510621047/zipp-3.15.0-py3-none-any.whl\n",
      "Collecting typing-extensions>=3.6.4; python_version < \"3.8\" (from importlib-metadata>=1.4; python_version < \"3.8\"->pyinstaller)\n",
      "  Downloading https://files.pythonhosted.org/packages/ec/6b/63cc3df74987c36fe26157ee12e09e8f9db4de771e0f3404263117e75b95/typing_extensions-4.7.1-py3-none-any.whl\n",
      "Installing collected packages: pyinstaller-hooks-contrib, pywin32-ctypes, zipp, typing-extensions, importlib-metadata, pefile, altgraph, setuptools, pyinstaller\n",
      "  Found existing installation: zipp 0.3.3\n",
      "    Uninstalling zipp-0.3.3:\n",
      "      Successfully uninstalled zipp-0.3.3\n",
      "  Found existing installation: importlib-metadata 0.0.0\n",
      "    Uninstalling importlib-metadata-0.0.0:\n",
      "      Successfully uninstalled importlib-metadata-0.0.0\n",
      "  Found existing installation: setuptools 40.8.0\n",
      "    Uninstalling setuptools-40.8.0:\n",
      "      Successfully uninstalled setuptools-40.8.0\n",
      "Successfully installed altgraph-0.17.4 importlib-metadata-6.7.0 pefile-2023.2.7 pyinstaller-5.13.2 pyinstaller-hooks-contrib-2023.10 pywin32-ctypes-0.2.2 setuptools-68.0.0 typing-extensions-4.7.1 zipp-3.15.0\n"
     ]
    }
   ],
   "source": [
    "#!pip install pyinstaller"
   ]
  },
  {
   "cell_type": "code",
   "execution_count": null,
   "metadata": {},
   "outputs": [],
   "source": [
    "!pyinstaller.exe --noconsole temperature_converter.py"
   ]
  }
 ],
 "metadata": {
  "kernelspec": {
   "display_name": "Python 3.7.3 ('base')",
   "language": "python",
   "name": "python3"
  },
  "language_info": {
   "codemirror_mode": {
    "name": "ipython",
    "version": 3
   },
   "file_extension": ".py",
   "mimetype": "text/x-python",
   "name": "python",
   "nbconvert_exporter": "python",
   "pygments_lexer": "ipython3",
   "version": "3.7.3"
  },
  "orig_nbformat": 4,
  "vscode": {
   "interpreter": {
    "hash": "ad2bdc8ecc057115af97d19610ffacc2b4e99fae6737bb82f5d7fb13d2f2c186"
   }
  }
 },
 "nbformat": 4,
 "nbformat_minor": 2
}
