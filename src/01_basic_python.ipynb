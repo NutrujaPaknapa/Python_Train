{
 "cells": [
  {
   "cell_type": "markdown",
   "metadata": {},
   "source": [
    "# Basic Python"
   ]
  },
  {
   "cell_type": "markdown",
   "metadata": {},
   "source": [
    "variables"
   ]
  },
  {
   "cell_type": "code",
   "execution_count": 32,
   "metadata": {},
   "outputs": [
    {
     "name": "stdout",
     "output_type": "stream",
     "text": [
      "HELLO WORLD\n",
      "HELLO FERN\n",
      "HELLO FERN2\n"
     ]
    }
   ],
   "source": [
    "print(\"HELLO WORLD\")\n",
    "msg = \"HELLO FERN\"\n",
    "print(msg)\n",
    "\n",
    "msg = \"HELLO FERN2\"\n",
    "print(msg)"
   ]
  },
  {
   "cell_type": "code",
   "execution_count": 33,
   "metadata": {},
   "outputs": [
    {
     "name": "stdout",
     "output_type": "stream",
     "text": [
      "NUTRUJA  PAKNAPA(FERN)\n",
      "NUTRUJAPAKNAPA\n",
      "nPAKNAPA\n",
      "NUTRUJA  PAKNAPA(FERN)\n"
     ]
    }
   ],
   "source": [
    "n = \"NUTRUJA\"\n",
    "name = \"NUTRUJA\"\n",
    "first_name = \"PAKNAPA\"\n",
    "firstname = \"PAKNAPA\"\n",
    "\n",
    "print(name+\"  \"+first_name+\"(FERN)\")\n",
    "\n",
    "#f-string function\n",
    "print(f'{n}{first_name}')\n",
    "print(f'n{first_name}')\n",
    "print(f'{name}  {first_name}(FERN)')"
   ]
  },
  {
   "cell_type": "code",
   "execution_count": 34,
   "metadata": {},
   "outputs": [
    {
     "name": "stdout",
     "output_type": "stream",
     "text": [
      "fern\n",
      "FERN\n"
     ]
    }
   ],
   "source": [
    "print(\"FERN\".lower())\n",
    "print(\"fern\".upper())"
   ]
  },
  {
   "cell_type": "code",
   "execution_count": 35,
   "metadata": {},
   "outputs": [
    {
     "name": "stdout",
     "output_type": "stream",
     "text": [
      "T9618_NUTRUJA\n"
     ]
    }
   ],
   "source": [
    "empno = \"T9618\"\n",
    "name = \"NUTRUJA\"\n",
    "print(empno+\"_\"+name)\n",
    "#comment ตั้งชื่อเพื่อเก็บ Empnumber"
   ]
  },
  {
   "cell_type": "markdown",
   "metadata": {},
   "source": [
    "# Data Type"
   ]
  },
  {
   "cell_type": "markdown",
   "metadata": {},
   "source": [
    "#### String"
   ]
  },
  {
   "cell_type": "code",
   "execution_count": 36,
   "metadata": {},
   "outputs": [
    {
     "name": "stdout",
     "output_type": "stream",
     "text": [
      "This 's easy to learn Python\n",
      "This \"s easy to learn Python\n"
     ]
    },
    {
     "data": {
      "text/plain": [
       "str"
      ]
     },
     "execution_count": 36,
     "metadata": {},
     "output_type": "execute_result"
    }
   ],
   "source": [
    "msg = \"Hello World\"\n",
    "msg = 'Hello World'\n",
    "\n",
    "print(\"This 's easy to learn Python\")\n",
    "print('This \"s easy to learn Python')\n",
    "\n",
    "type(msg)\n",
    "#check type values\n"
   ]
  },
  {
   "cell_type": "markdown",
   "metadata": {},
   "source": [
    "#### Numberic"
   ]
  },
  {
   "cell_type": "code",
   "execution_count": 37,
   "metadata": {},
   "outputs": [
    {
     "name": "stdout",
     "output_type": "stream",
     "text": [
      "<class 'str'>\n",
      "61\n",
      "<class 'int'>\n",
      "6\n",
      "<class 'float'>\n",
      "4.5\n",
      "6\n",
      "6.0\n"
     ]
    }
   ],
   "source": [
    "#sum string\n",
    "msg = \"6\"\n",
    "type(msg)\n",
    "print(type(msg))\n",
    "print(msg+\"1\")\n",
    "\n",
    "#sum int\n",
    "msg = 4\n",
    "msg1 = int(msg)\n",
    "type(msg)\n",
    "print(type(msg))\n",
    "print(msg1+2)\n",
    "msg+4\n",
    "\n",
    "#sum float\n",
    "msg2 = 2.5\n",
    "type(msg2)\n",
    "msg1 = float(msg2)\n",
    "print(type(msg2))\n",
    "print(msg2+2)\n",
    "#ปัดเศษทศนิยม\n",
    "print(int(4+msg2))\n",
    "print(float(round(4+msg2)))"
   ]
  },
  {
   "cell_type": "markdown",
   "metadata": {},
   "source": [
    "#### Operator"
   ]
  },
  {
   "cell_type": "code",
   "execution_count": 38,
   "metadata": {},
   "outputs": [
    {
     "data": {
      "text/plain": [
       "0.75"
      ]
     },
     "execution_count": 38,
     "metadata": {},
     "output_type": "execute_result"
    }
   ],
   "source": [
    "3/4"
   ]
  },
  {
   "cell_type": "code",
   "execution_count": 39,
   "metadata": {},
   "outputs": [
    {
     "data": {
      "text/plain": [
       "12"
      ]
     },
     "execution_count": 39,
     "metadata": {},
     "output_type": "execute_result"
    }
   ],
   "source": [
    "3*4"
   ]
  },
  {
   "cell_type": "code",
   "execution_count": 40,
   "metadata": {},
   "outputs": [
    {
     "data": {
      "text/plain": [
       "1"
      ]
     },
     "execution_count": 40,
     "metadata": {},
     "output_type": "execute_result"
    }
   ],
   "source": [
    "3-2"
   ]
  },
  {
   "cell_type": "code",
   "execution_count": 41,
   "metadata": {},
   "outputs": [
    {
     "data": {
      "text/plain": [
       "7"
      ]
     },
     "execution_count": 41,
     "metadata": {},
     "output_type": "execute_result"
    }
   ],
   "source": [
    "3+4"
   ]
  },
  {
   "cell_type": "markdown",
   "metadata": {},
   "source": [
    "# Data Structure"
   ]
  },
  {
   "cell_type": "markdown",
   "metadata": {},
   "source": [
    "#### Lists"
   ]
  },
  {
   "cell_type": "code",
   "execution_count": 42,
   "metadata": {},
   "outputs": [
    {
     "name": "stdout",
     "output_type": "stream",
     "text": [
      "<class 'list'>\n"
     ]
    }
   ],
   "source": [
    "file_name = \"one.xlsx\"\n",
    "#1ตัวแปรเก็บหลาย value เป็นประเภทลิส\n",
    "\n",
    "file_names = [\"one.xlsx\",\"two.xlsx\",\"three.xlsx\"]\n",
    "file_names = [1,2,3]\n",
    "file_names = [\"one.xlsx\",2,\"three.xlsx\"]\n",
    "#เป็น Data Structure สากล หรือ JavaScript เรียกว่าข้อมูลแบบ Arrays\n",
    "print(type(file_names))"
   ]
  },
  {
   "cell_type": "code",
   "execution_count": 43,
   "metadata": {},
   "outputs": [
    {
     "name": "stdout",
     "output_type": "stream",
     "text": [
      "['one.xlsx', 2, 'three.xlsx']\n",
      "<class 'str'>\n",
      "one.xlsx\n",
      "<class 'int'>\n",
      "2\n",
      "<class 'str'>\n",
      "three.xlsx\n",
      "<class 'int'>\n",
      "2\n"
     ]
    }
   ],
   "source": [
    "#index การเรียกใช้ Arrays\n",
    "print(file_names)\n",
    "print(type(file_names[0]))\n",
    "print(file_names[0])\n",
    "print(type(file_names[1]))\n",
    "print(file_names[1])\n",
    "print(type(file_names[2]))\n",
    "print(file_names[2])\n",
    "\n",
    "#index การเรียกใช้ Arrays ย้อนหลังจากหลังมาหน้า\n",
    "print(type(file_names[-2]))\n",
    "print(file_names[-2])"
   ]
  },
  {
   "cell_type": "code",
   "execution_count": 44,
   "metadata": {},
   "outputs": [
    {
     "name": "stdout",
     "output_type": "stream",
     "text": [
      "['one.xlsx']\n",
      "['one.xlsx', 2]\n",
      "['one.xlsx', 2, 'three.xlsx']\n",
      "['one.xlsx', 2]\n",
      "['one.xlsx']\n"
     ]
    }
   ],
   "source": [
    "#slice \n",
    "print(file_names[0:1])\n",
    "print(file_names[0:2])\n",
    "print(file_names[0:3])\n",
    "\n",
    "\n",
    "\n",
    "print(file_names[0:-1])\n",
    "print(file_names[0:-2])"
   ]
  },
  {
   "cell_type": "markdown",
   "metadata": {},
   "source": [
    "# Dictionaries"
   ]
  },
  {
   "cell_type": "markdown",
   "metadata": {},
   "source": [
    "#### Dic {}"
   ]
  },
  {
   "cell_type": "code",
   "execution_count": 45,
   "metadata": {},
   "outputs": [
    {
     "name": "stdout",
     "output_type": "stream",
     "text": [
      "<class 'dict'>\n",
      "1.1152\n",
      "1.2452\n",
      "0.6161\n"
     ]
    }
   ],
   "source": [
    "exchange_rates = {\"EURUSD\" : 1.1152, \"GBPUSD\" :1.2452, \"AUDUSD\" : 0.6161}\n",
    "print(type(exchange_rates))\n",
    "\n",
    "print(exchange_rates[\"EURUSD\"])\n",
    "print(exchange_rates[\"GBPUSD\"])\n",
    "print(exchange_rates[\"AUDUSD\"])\n",
    "#is Data structure ชนิดหนึ่ง"
   ]
  },
  {
   "cell_type": "markdown",
   "metadata": {},
   "source": [
    "# Tuple"
   ]
  },
  {
   "cell_type": "code",
   "execution_count": 46,
   "metadata": {},
   "outputs": [
    {
     "name": "stdout",
     "output_type": "stream",
     "text": [
      "<class 'tuple'>\n",
      "<class 'list'>\n",
      "['EUR', 'GBP', 'AUD', 'XUD']\n"
     ]
    }
   ],
   "source": [
    "#ประกาศตัวแปรพิมพ์เล็กทั้งหมด ตามด้วย วงเล็บ() แทน {}\n",
    "currencies = (\"EUR\",\"GBP\",\"AUD\")\n",
    "print(type(currencies))\n",
    "\n",
    "#ไม่สามารถแก้ไขข้อมูลเพิ่มลบได้เลย เก็บได้ตระกูลข้อมูลที่อยู่ใน API\n",
    "\n",
    "list_currencies = [\"EUR\",\"GBP\",\"AUD\"]\n",
    "print(type(list_currencies))\n",
    "\n",
    "list_currencies.append(\"XUD\")\n",
    "print(list_currencies)\n",
    "\n",
    "\n",
    "#กรณีที่ต้องการเพิ่มชุดข้อมูลให้ใช้ append การใช้แบบ list สามารถเพิ่มลบ แก้ไขข้อมูลได้"
   ]
  },
  {
   "cell_type": "markdown",
   "metadata": {},
   "source": [
    "# Control flow"
   ]
  },
  {
   "cell_type": "markdown",
   "metadata": {},
   "source": [
    "#### if Statement"
   ]
  },
  {
   "cell_type": "code",
   "execution_count": 47,
   "metadata": {},
   "outputs": [
    {
     "name": "stdout",
     "output_type": "stream",
     "text": [
      "True\n",
      "False\n",
      "False\n",
      "True\n",
      "True\n",
      "False\n"
     ]
    }
   ],
   "source": [
    "#เป็น logic ชนิดหนึ่ง ทำงานภายใต้เงื่อนไข\n",
    "i = 6\n",
    "print(i>5)\n",
    "print(i<5)\n",
    "print(i==5)\n",
    "print(i!=5)\n",
    "print(i>=5)\n",
    "print(i<=5)\n",
    "# > , < , == , != , >= , <= "
   ]
  },
  {
   "cell_type": "code",
   "execution_count": 48,
   "metadata": {},
   "outputs": [
    {
     "name": "stdout",
     "output_type": "stream",
     "text": [
      "i is between 10 and 15\n"
     ]
    }
   ],
   "source": [
    "i=10\n",
    "if i<5:\n",
    "    print(\"i is smaller than 5\")\n",
    "elif i<=10:\n",
    "#else if\n",
    "    print(\"i is between 10 and 15\")\n",
    "else:\n",
    "    print(\"out of range\")\n",
    "#set format เคาะ 4 ครั้ง\n",
    "#มีแค่ if else ไม่มีการใช้ swit case"
   ]
  },
  {
   "cell_type": "markdown",
   "metadata": {},
   "source": [
    "#### For loop"
   ]
  },
  {
   "cell_type": "code",
   "execution_count": 49,
   "metadata": {},
   "outputs": [
    {
     "data": {
      "text/plain": [
       "'AUD'"
      ]
     },
     "execution_count": 49,
     "metadata": {},
     "output_type": "execute_result"
    }
   ],
   "source": [
    "currencies = [\"EUR\",\"GBP\",\"AUD\"]\n",
    "currencies[0]\n",
    "currencies[1]\n",
    "currencies[2]"
   ]
  },
  {
   "cell_type": "code",
   "execution_count": 50,
   "metadata": {},
   "outputs": [
    {
     "name": "stdout",
     "output_type": "stream",
     "text": [
      "EUR\n",
      "GBP\n",
      "AUD\n"
     ]
    }
   ],
   "source": [
    "for i in currencies:\n",
    "         print(i)"
   ]
  },
  {
   "cell_type": "code",
   "execution_count": 51,
   "metadata": {},
   "outputs": [
    {
     "name": "stdout",
     "output_type": "stream",
     "text": [
      "1.1152\n",
      "1.2452\n",
      "0.6161\n"
     ]
    }
   ],
   "source": [
    "exhange_rates = {\"EURUSD\":1.1152,\"GBPUSD\":1.2452,\"AUDUSD\":0.6161}\n",
    "for exhange_rate in exhange_rates.values():\n",
    "    print(exhange_rate)"
   ]
  },
  {
   "cell_type": "code",
   "execution_count": 52,
   "metadata": {},
   "outputs": [
    {
     "name": "stdout",
     "output_type": "stream",
     "text": [
      "('EURUSD', 1.1152)\n",
      "('GBPUSD', 1.2452)\n",
      "('AUDUSD', 0.6161)\n"
     ]
    }
   ],
   "source": [
    "for exhange_rate in exhange_rates.items():\n",
    "    print(exhange_rate)"
   ]
  },
  {
   "cell_type": "code",
   "execution_count": 53,
   "metadata": {},
   "outputs": [
    {
     "name": "stdout",
     "output_type": "stream",
     "text": [
      "('AUDUSD', 0.6161)\n",
      "('AUDUSD', 0.6161)\n",
      "('AUDUSD', 0.6161)\n"
     ]
    }
   ],
   "source": [
    "i = 0\n",
    "for currencie in currencies:\n",
    "    if currencie != \"HKD\":\n",
    "        print(exhange_rate)"
   ]
  },
  {
   "cell_type": "markdown",
   "metadata": {},
   "source": [
    "#### For Structure"
   ]
  },
  {
   "cell_type": "code",
   "execution_count": 54,
   "metadata": {},
   "outputs": [
    {
     "name": "stdout",
     "output_type": "stream",
     "text": [
      "0\n",
      "1\n",
      "2\n",
      "3\n",
      "4\n"
     ]
    }
   ],
   "source": [
    "#การวนลูป ตามจำนวนรอบที่กำหนด 5\n",
    "for i in range(5):\n",
    "    print(i)"
   ]
  },
  {
   "cell_type": "code",
   "execution_count": 55,
   "metadata": {},
   "outputs": [
    {
     "name": "stdout",
     "output_type": "stream",
     "text": [
      "0\n",
      "1\n",
      "2\n",
      "3\n",
      "4\n"
     ]
    }
   ],
   "source": [
    "for i in range(10):\n",
    "    #สั่งให้วน 10 รอบ แต่พอถึงรอบที่ 5 เบรก for\n",
    "    if i == 5 :\n",
    "        break\n",
    "    else :\n",
    "        print(i)"
   ]
  },
  {
   "cell_type": "code",
   "execution_count": 56,
   "metadata": {},
   "outputs": [
    {
     "name": "stdout",
     "output_type": "stream",
     "text": [
      "0\n",
      "1\n",
      "2\n",
      "3\n",
      "4\n",
      "6\n",
      "7\n",
      "8\n",
      "9\n"
     ]
    }
   ],
   "source": [
    "for i in range(10):\n",
    "    if i == 5 :\n",
    "        continue\n",
    "    else :\n",
    "        print(i)"
   ]
  },
  {
   "cell_type": "markdown",
   "metadata": {},
   "source": [
    "# Special Function"
   ]
  },
  {
   "cell_type": "markdown",
   "metadata": {},
   "source": [
    "#### Try Except"
   ]
  },
  {
   "cell_type": "code",
   "execution_count": 57,
   "metadata": {},
   "outputs": [
    {
     "name": "stdout",
     "output_type": "stream",
     "text": [
      "error\n"
     ]
    }
   ],
   "source": [
    "#เช็คบัค เพื่อป้องกันระบบหยุดทำงาน\n",
    "try:\n",
    "    msg = \"Hello World\"\n",
    "    int(msg)\n",
    "except:\n",
    "    print(\"error\")"
   ]
  },
  {
   "cell_type": "code",
   "execution_count": 58,
   "metadata": {},
   "outputs": [
    {
     "name": "stdout",
     "output_type": "stream",
     "text": [
      "error : invalid literal for int() with base 10: 'Hello World'\n"
     ]
    }
   ],
   "source": [
    "try:\n",
    "    msg = \"Hello World\"\n",
    "    int(msg)\n",
    "except Exception as error:\n",
    "    print(f\"error : {error}\")\n",
    "#ใช้ Exception เพื่อบอกจุดที่เกิดปัญหา"
   ]
  },
  {
   "cell_type": "code",
   "execution_count": 59,
   "metadata": {},
   "outputs": [
    {
     "name": "stdout",
     "output_type": "stream",
     "text": [
      "['test', 'xlsx']\n",
      "test\n",
      "xlsx\n"
     ]
    }
   ],
   "source": [
    "msg = \"test.xlsx\"\n",
    "list_msg = msg.split(\".\")\n",
    "print(list_msg)\n",
    "print(list_msg[0])\n",
    "print(list_msg[-1])"
   ]
  },
  {
   "cell_type": "code",
   "execution_count": 60,
   "metadata": {},
   "outputs": [
    {
     "name": "stdout",
     "output_type": "stream",
     "text": [
      "['nat', 'mcstatus', 'gd', 'ic02r.txt']\n",
      "nat\n",
      "gd\n",
      "ic02r.txt\n"
     ]
    }
   ],
   "source": [
    "msg = \"nat_mcstatus_gd_ic02r.txt\"\n",
    "list_msg = msg.split(\"_\")\n",
    "\n",
    "msg2 = \"ic02r.txt\"\n",
    "list_msg2 = msg.split(\".\")\n",
    "\n",
    "print(list_msg)\n",
    "print(list_msg[0])\n",
    "print(list_msg[2])\n",
    "print(list_msg[3])\n"
   ]
  },
  {
   "cell_type": "markdown",
   "metadata": {},
   "source": [
    "#### Len"
   ]
  },
  {
   "cell_type": "code",
   "execution_count": 61,
   "metadata": {},
   "outputs": [
    {
     "data": {
      "text/plain": [
       "7"
      ]
     },
     "execution_count": 61,
     "metadata": {},
     "output_type": "execute_result"
    }
   ],
   "source": [
    "msg = \"NUTRUJA\"\n",
    "len(msg)"
   ]
  },
  {
   "cell_type": "markdown",
   "metadata": {},
   "source": [
    "#### Strip"
   ]
  },
  {
   "cell_type": "code",
   "execution_count": 1,
   "metadata": {},
   "outputs": [
    {
     "name": "stdout",
     "output_type": "stream",
     "text": [
      "9\n",
      "7\n",
      "NUTRUJA\n"
     ]
    }
   ],
   "source": [
    "msg = \" NUTRUJA \"\n",
    "print(len(msg))\n",
    "msg = msg.strip()\n",
    "print(len(msg))\n",
    "print(msg)\n"
   ]
  },
  {
   "cell_type": "markdown",
   "metadata": {},
   "source": [
    "# Function"
   ]
  },
  {
   "cell_type": "code",
   "execution_count": 2,
   "metadata": {},
   "outputs": [
    {
     "name": "stdout",
     "output_type": "stream",
     "text": [
      "hello world\n"
     ]
    }
   ],
   "source": [
    "#การเขียนฟังก์ชั่น\n",
    "#การใช้ \"\"\" \"\"\" เป็นการคอมเม้นหลายบรรทัด\n",
    "def test():\n",
    "    \"\"\"for print hello world\"\"\"\n",
    "    print(\"hello world\")\n",
    "\n",
    "test()"
   ]
  },
  {
   "cell_type": "code",
   "execution_count": 5,
   "metadata": {},
   "outputs": [
    {
     "name": "stdout",
     "output_type": "stream",
     "text": [
      "25\n"
     ]
    }
   ],
   "source": [
    "def calulation_plus():\n",
    "    \"\"\"plus digit\"\"\"\n",
    "    digit_1 = 10\n",
    "    digit_2 = 15\n",
    "    result = digit_1 + digit_2\n",
    "    print(result)\n",
    "    \n",
    "calulation_plus()\n",
    "#print(digit_1)"
   ]
  },
  {
   "cell_type": "code",
   "execution_count": 6,
   "metadata": {},
   "outputs": [
    {
     "name": "stdout",
     "output_type": "stream",
     "text": [
      "74\n",
      "33\n"
     ]
    }
   ],
   "source": [
    "def calulation_plus(digit_1,digit_2):\n",
    "    \"\"\"plus digit\"\"\"\n",
    "    result = digit_1 + digit_2\n",
    "    print(result)\n",
    "    \n",
    "calulation_plus(50,24)\n",
    "calulation_plus(23,10)\n",
    "#print(digit_1)"
   ]
  },
  {
   "cell_type": "code",
   "execution_count": 16,
   "metadata": {},
   "outputs": [
    {
     "name": "stdout",
     "output_type": "stream",
     "text": [
      "-26\n",
      "-57\n",
      "-26\n",
      "-36\n"
     ]
    },
    {
     "data": {
      "text/plain": [
       "-36"
      ]
     },
     "execution_count": 16,
     "metadata": {},
     "output_type": "execute_result"
    }
   ],
   "source": [
    "def calulation_minus(digit_1,digit_2):\n",
    "    \"\"\"minus digit\"\"\"\n",
    "    result = digit_1 - digit_2\n",
    "    print(result)\n",
    "    return result\n",
    "    \n",
    "calulation_minus(digit_2=50,digit_1=24)\n",
    "calulation_minus(23,80)\n",
    "calulation_minus(calulation_minus(digit_2=50,digit_1=24),10)\n",
    "#print(digit_1)"
   ]
  },
  {
   "cell_type": "code",
   "execution_count": 17,
   "metadata": {},
   "outputs": [
    {
     "name": "stdout",
     "output_type": "stream",
     "text": [
      "-26\n",
      "-26\n",
      "-36\n"
     ]
    },
    {
     "data": {
      "text/plain": [
       "-36"
      ]
     },
     "execution_count": 17,
     "metadata": {},
     "output_type": "execute_result"
    }
   ],
   "source": [
    "calulation_minus(digit_2=50,digit_1=24)\n",
    "#ได้ค่ามาแล้วอยากทำการคำนวนซ้ำให้เขียนฟังก์ชั่นซ้อนเข้าไป\n",
    "calulation_minus(calulation_minus(digit_2=50,digit_1=24),10)"
   ]
  },
  {
   "cell_type": "markdown",
   "metadata": {},
   "source": [
    "#### Mudule"
   ]
  },
  {
   "cell_type": "code",
   "execution_count": 2,
   "metadata": {},
   "outputs": [
    {
     "name": "stdout",
     "output_type": "stream",
     "text": [
      "-15\n",
      "55\n"
     ]
    }
   ],
   "source": [
    "#แยกฟังก์ชั่นออกเป็นส่วนๆ \n",
    "import calculation\n",
    "#การ import\n",
    "\n",
    "print(calculation.calulation_minus(20,35))\n",
    "print(calculation.calulation_plus(20,35))\n",
    "#การเรียกใช้"
   ]
  },
  {
   "cell_type": "code",
   "execution_count": 3,
   "metadata": {},
   "outputs": [
    {
     "data": {
      "text/plain": [
       "7"
      ]
     },
     "execution_count": 3,
     "metadata": {},
     "output_type": "execute_result"
    }
   ],
   "source": [
    "import calculation as cal\n",
    "cal.calulation_minus(30,23)"
   ]
  },
  {
   "cell_type": "code",
   "execution_count": 6,
   "metadata": {},
   "outputs": [
    {
     "name": "stdout",
     "output_type": "stream",
     "text": [
      "-344\n",
      "588\n"
     ]
    }
   ],
   "source": [
    "from calculation import calulation_minus,calulation_plus\n",
    "#การเรียกใช้งานเฉพราะฟังก์ชั่น\n",
    "print(calulation_minus(10,354))\n",
    "print(calulation_plus(239,349))"
   ]
  },
  {
   "cell_type": "code",
   "execution_count": 8,
   "metadata": {},
   "outputs": [
    {
     "name": "stdout",
     "output_type": "stream",
     "text": [
      "fahrenhite = -12.222222222222223\n",
      "Kelvin =  -263.15\n",
      "fahrenhite = -12.22\n"
     ]
    }
   ],
   "source": [
    "import calcelsius as cal\n",
    "degree_cal_result = cal.degree_cal(10)\n",
    "\n",
    "print('fahrenhite =',degree_cal_result[0])\n",
    "print('Kelvin = ',degree_cal_result[1])\n",
    "print('fahrenhite =',(round(degree_cal_result[0],2)))"
   ]
  },
  {
   "cell_type": "code",
   "execution_count": 7,
   "metadata": {},
   "outputs": [
    {
     "name": "stdout",
     "output_type": "stream",
     "text": [
      "<class 'int'>\n"
     ]
    }
   ],
   "source": [
    "import calcelsius as cal\n",
    "degree_val = 5\n",
    "inputype = type(degree_val)\n",
    "print(type(degree_val))\n",
    "if inputype is str:\n",
    "    try:\n",
    "        inputype = int(inputype)\n",
    "    except:\n",
    "        pass\n",
    "if inputype is str:\n",
    "    print('Please input correct value')\n",
    "else:\n",
    "    try:\n",
    "        degree_cal_result = cal.calcelsius(100)\n",
    "        fahrenhite = round(degree_cal_result[0],2)\n",
    "        kelvin     = round(degree_cal_result[1],2)\n",
    "        print('Fahrenhite =',fahrenhite)\n",
    "        print('Kelvin     =',kelvin)\n",
    "    except:\n",
    "        pass"
   ]
  },
  {
   "cell_type": "code",
   "execution_count": 12,
   "metadata": {},
   "outputs": [
    {
     "name": "stdout",
     "output_type": "stream",
     "text": [
      "fahrenhite = -12.222222222222223\n",
      "Kelvin =  -263.15\n",
      "fahrenhite = -12.22\n"
     ]
    }
   ],
   "source": [
    "def degree_cal(degree):\n",
    "    result_far = (degree-32)*(5/9)\n",
    "    result_kel = degree -273.15\n",
    "    result_degree = [result_far,result_kel]\n",
    "    return result_degree\n",
    "    degree_cal_result = cal.degree_cal(10)\n",
    "\n",
    "print('fahrenhite =',degree_cal_result[0])\n",
    "print('Kelvin = ',degree_cal_result[1])\n",
    "print('fahrenhite =',(round(degree_cal_result[0],2)))"
   ]
  }
 ],
 "metadata": {
  "kernelspec": {
   "display_name": "Python 3.7.3 ('base')",
   "language": "python",
   "name": "python3"
  },
  "language_info": {
   "codemirror_mode": {
    "name": "ipython",
    "version": 3
   },
   "file_extension": ".py",
   "mimetype": "text/x-python",
   "name": "python",
   "nbconvert_exporter": "python",
   "pygments_lexer": "ipython3",
   "version": "3.7.3"
  },
  "orig_nbformat": 4,
  "vscode": {
   "interpreter": {
    "hash": "ad2bdc8ecc057115af97d19610ffacc2b4e99fae6737bb82f5d7fb13d2f2c186"
   }
  }
 },
 "nbformat": 4,
 "nbformat_minor": 2
}
