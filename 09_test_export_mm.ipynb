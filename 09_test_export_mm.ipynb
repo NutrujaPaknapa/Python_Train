{
 "cells": [
  {
   "cell_type": "markdown",
   "metadata": {},
   "source": [
    "# Hack the system"
   ]
  },
  {
   "cell_type": "code",
   "execution_count": 17,
   "metadata": {},
   "outputs": [
    {
     "name": "stderr",
     "output_type": "stream",
     "text": [
      "There was an error managing chrome (error sending request for url (https://googlechromelabs.github.io/chrome-for-testing/known-good-versions-with-downloads.json): error trying to connect: dns error: No such host is known. (os error 11001)); using driver found in the cache\n"
     ]
    }
   ],
   "source": [
    "from selenium import webdriver\n",
    "from selenium.webdriver.common.by import By\n",
    "from selenium.webdriver.common.keys import Keys\n",
    "import time\n",
    "from selenium.webdriver.support.ui import WebDriverWait\n",
    "from selenium.webdriver.support import expected_conditions as EC\n",
    "\n",
    "\n",
    "driver = webdriver.Chrome()\n",
    "driver.get(\"http://10.120.10.140:1109/log-in\")\n",
    "\n",
    "empnumber = driver.find_element(By.XPATH,'//*[@id=\"root\"]/div/div/div/div/div/div/div/div/form/div[1]/input')\n",
    "empnumber.send_keys(\"T9618\")\n",
    "\n",
    "password = driver.find_element(By.XPATH,'//*[@id=\"root\"]/div/div/div/div/div/div/div/div/form/div[2]/input') \n",
    "password.send_keys(\"112537\")\n",
    "\n",
    "submit = driver.find_element(By.XPATH,'//*[@id=\"root\"]/div/div/div/div/div/div/div/div/form/div[4]/button')\n",
    "time.sleep(5)\n",
    "submit.click()\n",
    "\n",
    "wait = WebDriverWait(driver, 20)\n",
    "click_load = wait.until(EC.element_to_be_clickable((By.XPATH, '//*[@id=\"root\"]/div/div[2]/div/div[2]/div[2]/div[2]/div/div/div[1]/div/a')))\n",
    "click_load.click()\n"
   ]
  }
 ],
 "metadata": {
  "kernelspec": {
   "display_name": "Python 3.11.5",
   "language": "python",
   "name": "python3"
  },
  "language_info": {
   "codemirror_mode": {
    "name": "ipython",
    "version": 3
   },
   "file_extension": ".py",
   "mimetype": "text/x-python",
   "name": "python",
   "nbconvert_exporter": "python",
   "pygments_lexer": "ipython3",
   "version": "3.11.5"
  },
  "orig_nbformat": 4,
  "vscode": {
   "interpreter": {
    "hash": "b5a27bd524ba473a7a78977eca847747dbd096ea985e5a52ac3e13ff952e0320"
   }
  }
 },
 "nbformat": 4,
 "nbformat_minor": 2
}
